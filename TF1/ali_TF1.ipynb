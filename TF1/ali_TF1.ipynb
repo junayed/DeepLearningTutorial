{
  "nbformat": 4,
  "nbformat_minor": 0,
  "metadata": {
    "colab": {
      "name": "ali_TF1.ipynb",
      "version": "0.3.2",
      "provenance": [],
      "collapsed_sections": [],
      "include_colab_link": true
    },
    "kernelspec": {
      "name": "python3",
      "display_name": "Python 3"
    },
    "accelerator": "GPU"
  },
  "cells": [
    {
      "cell_type": "markdown",
      "metadata": {
        "id": "view-in-github",
        "colab_type": "text"
      },
      "source": [
        "<a href=\"https://colab.research.google.com/github/ku-milab/DeepLearningTutorial/blob/master/TF1/ali_TF1.ipynb\" target=\"_parent\"><img src=\"https://colab.research.google.com/assets/colab-badge.svg\" alt=\"Open In Colab\"/></a>"
      ]
    },
    {
      "metadata": {
        "colab_type": "text",
        "id": "dqcRk2RM0G3M"
      },
      "cell_type": "markdown",
      "source": [
        "#Adversarially Learned Inference\n",
        "![대체 텍스트](https://ishmaelbelghazi.github.io/ALI/assets/ali_probabilistic.svg)"
      ]
    },
    {
      "metadata": {
        "colab_type": "text",
        "id": "e1_Y75QXJS6h"
      },
      "cell_type": "markdown",
      "source": [
        "### Import TensorFlow and other libraries"
      ]
    },
    {
      "metadata": {
        "colab_type": "code",
        "id": "YzTlj4YdCip_",
        "colab": {}
      },
      "cell_type": "code",
      "source": [
        "# To generate GIFs\n",
        "!pip -q install imageio"
      ],
      "execution_count": 0,
      "outputs": []
    },
    {
      "metadata": {
        "colab_type": "code",
        "id": "YfIk2es3hJEd",
        "colab": {}
      },
      "cell_type": "code",
      "source": [
        "from __future__ import absolute_import, division, print_function, unicode_literals\n",
        "\n",
        "!pip -q install tensorflow-gpu==1.13.1\n",
        "import tensorflow as tf\n",
        "\n",
        "import os\n",
        "import time\n",
        "import numpy as np\n",
        "import glob\n",
        "import matplotlib.pyplot as plt\n",
        "import PIL\n",
        "import imageio\n",
        "\n",
        "from IPython import display"
      ],
      "execution_count": 0,
      "outputs": []
    },
    {
      "metadata": {
        "colab_type": "text",
        "id": "iYn4MdZnKCey"
      },
      "cell_type": "markdown",
      "source": [
        "### Load and prepare the dataset\n",
        "\n",
        "You will use the MNIST dataset to train the generator and the discriminator. The generator will generate handwritten digits resembling the MNIST data."
      ]
    },
    {
      "metadata": {
        "colab_type": "code",
        "id": "S4PIDhoDLbsZ",
        "colab": {}
      },
      "cell_type": "code",
      "source": [
        "(train_images, _), (test_images, _) = tf.keras.datasets.mnist.load_data()"
      ],
      "execution_count": 0,
      "outputs": []
    },
    {
      "metadata": {
        "colab_type": "code",
        "id": "-yKCCQOoJ7cn",
        "colab": {}
      },
      "cell_type": "code",
      "source": [
        "train_images = train_images.reshape(train_images.shape[0], 28, 28, 1).astype('float32')\n",
        "test_images = test_images.reshape(test_images.shape[0], 28, 28, 1).astype('float32')\n",
        "\n",
        "# Normalizing the images to the range of [0., 1.]\n",
        "train_images /= 255.\n",
        "test_images /= 255.\n",
        "\n",
        "# Binarization\n",
        "train_images[train_images >= .5] = 1.\n",
        "train_images[train_images < .5] = 0.\n",
        "test_images[test_images >= .5] = 1.\n",
        "test_images[test_images < .5] = 0."
      ],
      "execution_count": 0,
      "outputs": []
    },
    {
      "metadata": {
        "colab_type": "text",
        "id": "THY-sZMiQ4UV"
      },
      "cell_type": "markdown",
      "source": [
        "## Create the models\n",
        "\n",
        "Both the generator and discriminator are defined using the [Keras Sequential API](https://www.tensorflow.org/guide/keras#sequential_model)."
      ]
    },
    {
      "metadata": {
        "colab_type": "text",
        "id": "-tEyxE-GMC48"
      },
      "cell_type": "markdown",
      "source": [
        "### The Generator\n",
        "\n",
        "The generator uses `tf.keras.layers.Conv2DTranspose` (upsampling) layers to produce an image from a seed (random noise). Start with a `Dense` layer that takes this seed as input, then upsample several times until you reach the desired image size of 28x28x1. Notice the `tf.keras.layers.LeakyReLU` activation for each layer, except the output layer which uses tanh."
      ]
    },
    {
      "metadata": {
        "colab_type": "text",
        "id": "D0IKnaCtg6WE"
      },
      "cell_type": "markdown",
      "source": [
        "### The Discriminator\n",
        "\n",
        "The discriminator is a CNN-based image classifier."
      ]
    },
    {
      "metadata": {
        "colab_type": "code",
        "id": "gDkA05NE6QMs",
        "colab": {}
      },
      "cell_type": "code",
      "source": [
        "class ALI:\n",
        "  def __init__(self, noise_dim):\n",
        "    self.noise_dim = noise_dim\n",
        "    \n",
        "    self.no_tied_bias = tf.get_variable(name=\"gen/nt_bias\", shape=train_images.shape[1:], initializer=self._marg(x=train_images))\n",
        "    \n",
        "  def _marg(self, x):\n",
        "    eps = 1e-7\n",
        "    marg = np.clip(x.mean(axis=0)/255., eps, 1. - eps)\n",
        "    marg = np.log(marg / (1. - marg))\n",
        "    \n",
        "    return tf.constant_initializer(marg, tf.float32)\n",
        "    \n",
        "  def generator_x(self, z):\n",
        "    with tf.variable_scope(\"gen/x\"):\n",
        "      out = tf.layers.dense(inputs=z, units=7 * 7 * 256, use_bias=False)\n",
        "      out = tf.layers.batch_normalization(inputs=out)\n",
        "      out = tf.nn.leaky_relu(out)\n",
        "\n",
        "      out = tf.reshape(out, shape=(-1, 7, 7, 256))\n",
        "\n",
        "      out = tf.layers.conv2d_transpose(inputs=out, filters=128, kernel_size=5, strides=1, padding='same', use_bias=False)\n",
        "      out = tf.layers.batch_normalization(inputs=out)\n",
        "      out = tf.nn.leaky_relu(out)\n",
        "\n",
        "      out = tf.layers.conv2d_transpose(inputs=out, filters=64, kernel_size=5, strides=2, padding='same', use_bias=False)\n",
        "      out = tf.layers.batch_normalization(inputs=out)\n",
        "      out = tf.nn.leaky_relu(out)\n",
        "\n",
        "      out = tf.layers.conv2d_transpose(inputs=out, filters=1, kernel_size=5, strides=2, padding='same', use_bias=False, activation='tanh')\n",
        "      \n",
        "      out += self.no_tied_bias\n",
        "      \n",
        "      \n",
        "    return out\n",
        "\n",
        "  def generator_z(self, x):\n",
        "    with tf.variable_scope(\"gen/z\"):\n",
        "      out = tf.layers.conv2d(inputs=x, filters=64, kernel_size=5, strides=2, padding='same')\n",
        "      out = tf.nn.leaky_relu(out)\n",
        "      out = tf.layers.dropout(inputs=out, rate=0.3)\n",
        "\n",
        "      out = tf.layers.conv2d(inputs=out, filters=128, kernel_size=5, strides=2, padding='same')\n",
        "      out = tf.nn.leaky_relu(out)\n",
        "      out = tf.layers.dropout(inputs=out, rate=0.3)\n",
        "\n",
        "      out = tf.layers.flatten(inputs=out)\n",
        "      out = tf.layers.dense(inputs=out, units=self.noise_dim, activation=\"sigmoid\")\n",
        "\n",
        "    return out\n",
        "  \n",
        "  def discriminator_z(self, z):\n",
        "    with tf.variable_scope(\"disc/z\"):\n",
        "      out = tf.layers.flatten(inputs=z)\n",
        "      \n",
        "      out = tf.layers.dense(inputs=out, units=self.noise_dim, use_bias=False)\n",
        "      out = tf.layers.batch_normalization(inputs=out)\n",
        "      out = tf.nn.leaky_relu(out)\n",
        "      \n",
        "      out = tf.layers.dense(inputs=z, units=self.noise_dim, use_bias=False)\n",
        "      out = tf.layers.batch_normalization(inputs=out)\n",
        "      out = tf.nn.leaky_relu(out)\n",
        "\n",
        "    return out\n",
        "  def discriminator_x(self, x):\n",
        "    with tf.variable_scope(\"disc/x\"):\n",
        "      out = tf.layers.conv2d(inputs=x, filters=64, kernel_size=5, strides=2, padding='same')\n",
        "      out = tf.nn.leaky_relu(out)\n",
        "      out = tf.layers.dropout(inputs=out, rate=0.3)\n",
        "\n",
        "      out = tf.layers.conv2d(inputs=out, filters=128, kernel_size=5, strides=2, padding='same')\n",
        "      out = tf.nn.leaky_relu(out)\n",
        "      out = tf.layers.dropout(inputs=out, rate=0.3)\n",
        "\n",
        "      out = tf.layers.flatten(inputs=out)\n",
        "      out = tf.layers.dense(inputs=out, units=self.noise_dim)\n",
        "      out = tf.nn.leaky_relu(out)\n",
        "\n",
        "    return out\n",
        "  \n",
        "  def discriminator_all(self, x, z):\n",
        "    with tf.variable_scope(\"disc/all\"):\n",
        "      out = tf.concat((x, z), axis=-1)\n",
        "      out = tf.layers.dense(inputs=out, units=self.noise_dim*2, use_bias=False)\n",
        "      out = tf.layers.batch_normalization(inputs=out)\n",
        "      out = tf.nn.leaky_relu(out)\n",
        "      \n",
        "      out = tf.layers.dense(inputs=out, units=self.noise_dim, use_bias=False)\n",
        "      out = tf.layers.batch_normalization(inputs=out)\n",
        "      out = tf.nn.leaky_relu(out)\n",
        "      \n",
        "      out = tf.layers.dense(inputs=out, units=1, use_bias=False, activation=\"sigmoid\")\n",
        "\n",
        "    return out"
      ],
      "execution_count": 0,
      "outputs": []
    },
    {
      "metadata": {
        "id": "gTe2zLBvzlHP",
        "colab_type": "text"
      },
      "cell_type": "markdown",
      "source": [
        "## Define the training loop"
      ]
    },
    {
      "metadata": {
        "id": "ca4hcLpXzlHQ",
        "colab_type": "code",
        "colab": {}
      },
      "cell_type": "code",
      "source": [
        "epochs = 5\n",
        "batch_size = 100\n",
        "noise_dim=100\n",
        "num_examples_to_generate=16"
      ],
      "execution_count": 0,
      "outputs": []
    },
    {
      "metadata": {
        "id": "UvySGH_OzlHV",
        "colab_type": "text"
      },
      "cell_type": "markdown",
      "source": [
        "The training loop begins with generator receiving a random seed as input. That seed is used to produce an image. The discriminator is then used to classify real images (drawn from the training set) and fakes images (produced by the generator). The loss is calculated for each of these models, and the gradients are used to update the generator and discriminator."
      ]
    },
    {
      "metadata": {
        "id": "XSp45EwfzlHW",
        "colab_type": "code",
        "outputId": "8569e9d6-8de4-44fd-898d-d883d96e6cea",
        "colab": {
          "base_uri": "https://localhost:8080/",
          "height": 422
        }
      },
      "cell_type": "code",
      "source": [
        "model = ALI(noise_dim=noise_dim)\n",
        "\n",
        "x_real = tf.placeholder(shape=(None, 28, 28, 1), dtype=tf.float32)\n",
        "z_fake = tf.placeholder(shape=(None, noise_dim), dtype=tf.float32)\n",
        "\n",
        "\n",
        "with tf.variable_scope(\"ali\", reuse=False):\n",
        "  z_real = model.generator_z(x=x_real)\n",
        "  x_fake = model.generator_x(z=z_fake)\n",
        "  \n",
        "  concat_x = tf.concat((x_real, x_fake), axis=0)\n",
        "  concat_disc_x = model.discriminator_x(x=concat_x)\n",
        "  \n",
        "  concat_z = tf.concat((z_real, z_fake), axis=0)\n",
        "  concat_disc_z = model.discriminator_z(z=concat_z)\n",
        "  \n",
        "  concat_all = model.discriminator_all(x=concat_disc_x, z=concat_disc_z)\n",
        "\n",
        "p_real, q_fake = tf.split(concat_all, 2, axis=0)"
      ],
      "execution_count": 7,
      "outputs": [
        {
          "output_type": "stream",
          "text": [
            "WARNING:tensorflow:From /usr/local/lib/python3.6/dist-packages/tensorflow/python/framework/op_def_library.py:263: colocate_with (from tensorflow.python.framework.ops) is deprecated and will be removed in a future version.\n",
            "Instructions for updating:\n",
            "Colocations handled automatically by placer.\n",
            "WARNING:tensorflow:From <ipython-input-5-8bc763351e75>:39: conv2d (from tensorflow.python.layers.convolutional) is deprecated and will be removed in a future version.\n",
            "Instructions for updating:\n",
            "Use keras.layers.conv2d instead.\n",
            "WARNING:tensorflow:From <ipython-input-5-8bc763351e75>:41: dropout (from tensorflow.python.layers.core) is deprecated and will be removed in a future version.\n",
            "Instructions for updating:\n",
            "Use keras.layers.dropout instead.\n",
            "WARNING:tensorflow:From <ipython-input-5-8bc763351e75>:47: flatten (from tensorflow.python.layers.core) is deprecated and will be removed in a future version.\n",
            "Instructions for updating:\n",
            "Use keras.layers.flatten instead.\n",
            "WARNING:tensorflow:From <ipython-input-5-8bc763351e75>:48: dense (from tensorflow.python.layers.core) is deprecated and will be removed in a future version.\n",
            "Instructions for updating:\n",
            "Use keras.layers.dense instead.\n",
            "WARNING:tensorflow:From <ipython-input-5-8bc763351e75>:17: batch_normalization (from tensorflow.python.layers.normalization) is deprecated and will be removed in a future version.\n",
            "Instructions for updating:\n",
            "Use keras.layers.batch_normalization instead.\n",
            "WARNING:tensorflow:From <ipython-input-5-8bc763351e75>:22: conv2d_transpose (from tensorflow.python.layers.convolutional) is deprecated and will be removed in a future version.\n",
            "Instructions for updating:\n",
            "Use keras.layers.conv2d_transpose instead.\n"
          ],
          "name": "stdout"
        }
      ]
    },
    {
      "metadata": {
        "colab_type": "text",
        "id": "0FMYgY_mPfTi"
      },
      "cell_type": "markdown",
      "source": [
        "## Define the loss and optimizers\n",
        "\n",
        "Define loss functions and optimizers for both models.\n"
      ]
    },
    {
      "metadata": {
        "colab_type": "text",
        "id": "PKY_iPSPNWoj"
      },
      "cell_type": "markdown",
      "source": [
        "### Discriminator loss\n",
        "\n",
        "This method quantifies how well the discriminator is able to distinguish real images from fakes. It compares the disciminator's predictions on real images to an array of 1s, and the disciminator's predictions on fake (generated) images to an array of 0s."
      ]
    },
    {
      "metadata": {
        "colab_type": "code",
        "id": "wkMNfBWlT-PV",
        "colab": {}
      },
      "cell_type": "code",
      "source": [
        "gen_loss = tf.reduce_mean(tf.nn.softplus(p_real) + tf.nn.softplus(-q_fake))\n",
        "disc_loss = tf.reduce_mean(tf.nn.softplus(-p_real) + tf.nn.softplus(q_fake))"
      ],
      "execution_count": 0,
      "outputs": []
    },
    {
      "metadata": {
        "colab_type": "text",
        "id": "MgIc7i0th_Iu"
      },
      "cell_type": "markdown",
      "source": [
        "The discriminator and the generator optimizers are different since we will train two networks separately."
      ]
    },
    {
      "metadata": {
        "colab_type": "code",
        "id": "iWCn_PVdEJZ7",
        "outputId": "64b93160-961a-4a4a-8fa0-d10541e6f0e8",
        "colab": {
          "base_uri": "https://localhost:8080/",
          "height": 73
        }
      },
      "cell_type": "code",
      "source": [
        "optimizer = tf.train.AdamOptimizer(1e-4)\n",
        "\n",
        "disc_var = tf.get_collection(tf.GraphKeys.TRAINABLE_VARIABLES, scope=\"ali/disc\")\n",
        "gen_var = tf.get_collection(tf.GraphKeys.TRAINABLE_VARIABLES, scope=\"ali/gen\")\n",
        "\n",
        "print(gen_var)\n",
        "print(disc_var)"
      ],
      "execution_count": 9,
      "outputs": [
        {
          "output_type": "stream",
          "text": [
            "[<tf.Variable 'ali/gen/z/conv2d/kernel:0' shape=(5, 5, 1, 64) dtype=float32_ref>, <tf.Variable 'ali/gen/z/conv2d/bias:0' shape=(64,) dtype=float32_ref>, <tf.Variable 'ali/gen/z/conv2d_1/kernel:0' shape=(5, 5, 64, 128) dtype=float32_ref>, <tf.Variable 'ali/gen/z/conv2d_1/bias:0' shape=(128,) dtype=float32_ref>, <tf.Variable 'ali/gen/z/dense/kernel:0' shape=(6272, 100) dtype=float32_ref>, <tf.Variable 'ali/gen/z/dense/bias:0' shape=(100,) dtype=float32_ref>, <tf.Variable 'ali/gen/x/dense/kernel:0' shape=(100, 12544) dtype=float32_ref>, <tf.Variable 'ali/gen/x/batch_normalization/gamma:0' shape=(12544,) dtype=float32_ref>, <tf.Variable 'ali/gen/x/batch_normalization/beta:0' shape=(12544,) dtype=float32_ref>, <tf.Variable 'ali/gen/x/conv2d_transpose/kernel:0' shape=(5, 5, 128, 256) dtype=float32_ref>, <tf.Variable 'ali/gen/x/batch_normalization_1/gamma:0' shape=(128,) dtype=float32_ref>, <tf.Variable 'ali/gen/x/batch_normalization_1/beta:0' shape=(128,) dtype=float32_ref>, <tf.Variable 'ali/gen/x/conv2d_transpose_1/kernel:0' shape=(5, 5, 64, 128) dtype=float32_ref>, <tf.Variable 'ali/gen/x/batch_normalization_2/gamma:0' shape=(64,) dtype=float32_ref>, <tf.Variable 'ali/gen/x/batch_normalization_2/beta:0' shape=(64,) dtype=float32_ref>, <tf.Variable 'ali/gen/x/conv2d_transpose_2/kernel:0' shape=(5, 5, 1, 64) dtype=float32_ref>]\n",
            "[<tf.Variable 'ali/disc/x/conv2d/kernel:0' shape=(5, 5, 1, 64) dtype=float32_ref>, <tf.Variable 'ali/disc/x/conv2d/bias:0' shape=(64,) dtype=float32_ref>, <tf.Variable 'ali/disc/x/conv2d_1/kernel:0' shape=(5, 5, 64, 128) dtype=float32_ref>, <tf.Variable 'ali/disc/x/conv2d_1/bias:0' shape=(128,) dtype=float32_ref>, <tf.Variable 'ali/disc/x/dense/kernel:0' shape=(6272, 100) dtype=float32_ref>, <tf.Variable 'ali/disc/x/dense/bias:0' shape=(100,) dtype=float32_ref>, <tf.Variable 'ali/disc/z/dense/kernel:0' shape=(100, 100) dtype=float32_ref>, <tf.Variable 'ali/disc/z/batch_normalization/gamma:0' shape=(100,) dtype=float32_ref>, <tf.Variable 'ali/disc/z/batch_normalization/beta:0' shape=(100,) dtype=float32_ref>, <tf.Variable 'ali/disc/z/dense_1/kernel:0' shape=(100, 100) dtype=float32_ref>, <tf.Variable 'ali/disc/z/batch_normalization_1/gamma:0' shape=(100,) dtype=float32_ref>, <tf.Variable 'ali/disc/z/batch_normalization_1/beta:0' shape=(100,) dtype=float32_ref>, <tf.Variable 'ali/disc/all/dense/kernel:0' shape=(200, 200) dtype=float32_ref>, <tf.Variable 'ali/disc/all/batch_normalization/gamma:0' shape=(200,) dtype=float32_ref>, <tf.Variable 'ali/disc/all/batch_normalization/beta:0' shape=(200,) dtype=float32_ref>, <tf.Variable 'ali/disc/all/dense_1/kernel:0' shape=(200, 100) dtype=float32_ref>, <tf.Variable 'ali/disc/all/batch_normalization_1/gamma:0' shape=(100,) dtype=float32_ref>, <tf.Variable 'ali/disc/all/batch_normalization_1/beta:0' shape=(100,) dtype=float32_ref>, <tf.Variable 'ali/disc/all/dense_2/kernel:0' shape=(100, 1) dtype=float32_ref>]\n"
          ],
          "name": "stdout"
        }
      ]
    },
    {
      "metadata": {
        "id": "zJzCIy7LzlH7",
        "colab_type": "code",
        "colab": {}
      },
      "cell_type": "code",
      "source": [
        "# with tf.control_dependencies(disc_bn):\n",
        "disc_update = optimizer.minimize(disc_loss, var_list=disc_var)\n",
        "\n",
        "# with tf.control_dependencies(gen_bn):\n",
        "gen_update = optimizer.minimize(gen_loss, var_list=gen_var)"
      ],
      "execution_count": 0,
      "outputs": []
    },
    {
      "metadata": {
        "id": "lOGGtZyyzlIA",
        "colab_type": "code",
        "colab": {}
      },
      "cell_type": "code",
      "source": [
        "def generate_and_save_images(results, epoch):\n",
        "  plt.figure(figsize=(4,4))\n",
        "  for i in range(len(results)):\n",
        "      plt.subplot(4, 4, i+1)\n",
        "      plt.imshow(np.array(results[i, :, :, 0]), cmap='gray')\n",
        "      plt.axis('off')\n",
        "\n",
        "  # tight_layout minimizes the overlap between 2 sub-plots\n",
        "  plt.savefig('image_at_epoch_{:04d}.png'.format(epoch))\n",
        "  plt.show()"
      ],
      "execution_count": 0,
      "outputs": []
    },
    {
      "metadata": {
        "id": "7l4R2ai1zlIF",
        "colab_type": "code",
        "colab": {}
      },
      "cell_type": "code",
      "source": [
        "# keeping the random vector constant for generation (prediction) so\n",
        "# it will be easier to see the improvement.\n",
        "noise_fixed = np.random.normal(size=[num_examples_to_generate, noise_dim])"
      ],
      "execution_count": 0,
      "outputs": []
    },
    {
      "metadata": {
        "colab_type": "code",
        "id": "2M7LmLtGEMQJ",
        "colab": {}
      },
      "cell_type": "code",
      "source": [
        "def train(sess):\n",
        "  noise_gen = sess.run(fetches=x_fake, feed_dict={z_fake: noise_fixed})\n",
        "  generate_and_save_images(noise_gen, epoch=0)\n",
        "  for epoch in range(1, epochs + 1):\n",
        "    start_time = time.time()\n",
        "    rand_idx = np.random.permutation(len(train_images))\n",
        "    for step in range(0, len(rand_idx)-1, batch_size):\n",
        "      cur_data = train_images[rand_idx[step:step+batch_size]]\n",
        "      sess.run(fetches=[gen_update, disc_update], feed_dict={x_real: cur_data, z_fake: np.random.normal(size=[len(cur_data), noise_dim])})\n",
        "\n",
        "    end_time = time.time()\n",
        "\n",
        "    if epoch % 1 == 0:\n",
        "      tst_gen_loss, tst_disc_loss = 0., 0.\n",
        "      for tst_step in range(0, len(test_images)-num_examples_to_generate+1, num_examples_to_generate):\n",
        "        cur_dat = test_images[tst_step: tst_step+num_examples_to_generate]\n",
        "        gl, dl = sess.run(fetches=[gen_loss, disc_loss], feed_dict={x_real: cur_dat, z_fake: noise_fixed})\n",
        "        tst_gen_loss += gl\n",
        "        tst_disc_loss += dl\n",
        "\n",
        "      tst_gen_loss/= len(test_images)\n",
        "      tst_disc_loss /= len(test_images)\n",
        "\n",
        "      print('Gen Loss {}, Disc Loss {} Time for epoch {} is {} sec'.format(tst_gen_loss, tst_disc_loss, epoch + 1, end_time - start_time))\n",
        "      noise_gen = sess.run(fetches=x_fake, feed_dict={z_fake: noise_fixed})\n",
        "      generate_and_save_images(noise_gen, epoch=0)"
      ],
      "execution_count": 0,
      "outputs": []
    },
    {
      "metadata": {
        "colab_type": "text",
        "id": "dZrd4CdjR-Fp"
      },
      "cell_type": "markdown",
      "source": [
        "## Train the model\n",
        "Call the `train()` method defined above to train the generator and discriminator simultaneously. Note, training GANs can be tricky. It's important that the generator and discriminator do not overpower each other (e.g., that they train at a similar rate).\n",
        "\n",
        "At the beginning of the training, the generated images look like random noise. As training progresses, the generated digits will look increasingly real. After about 50 epochs, they resemble MNIST digits. This may take about one minute / epoch with the default settings on Colab."
      ]
    },
    {
      "metadata": {
        "colab_type": "code",
        "id": "Ly3UN0SLLY2l",
        "outputId": "53b73649-c37e-4fe9-fd4b-ae007838035e",
        "colab": {
          "base_uri": "https://localhost:8080/",
          "height": 806
        }
      },
      "cell_type": "code",
      "source": [
        "with tf.Session() as sess:\n",
        "  sess.run(tf.global_variables_initializer())\n",
        "  train(sess)"
      ],
      "execution_count": 0,
      "outputs": [
        {
          "output_type": "display_data",
          "data": {
            "image/png": "[encoded data removed]",
            "text/plain": [
              "<Figure size 288x288 with 16 Axes>"
            ]
          },
          "metadata": {
            "tags": []
          }
        },
        {
          "output_type": "stream",
          "text": [
            "Gen Loss 0.12539942278861999, Disc Loss 0.06290096963644028 Time for epoch 2 is 15.065242528915405 sec\n"
          ],
          "name": "stdout"
        },
        {
          "output_type": "display_data",
          "data": {
            "image/png": "[encoded data removed]",
            "text/plain": [
              "<Figure size 288x288 with 16 Axes>"
            ]
          },
          "metadata": {
            "tags": []
          }
        },
        {
          "output_type": "stream",
          "text": [
            "Gen Loss 0.12540018849372864, Disc Loss 0.06290068714618682 Time for epoch 3 is 14.52207636833191 sec\n"
          ],
          "name": "stdout"
        },
        {
          "output_type": "display_data",
          "data": {
            "image/png": "[encoded data removed]",
            "text/plain": [
              "<Figure size 288x288 with 16 Axes>"
            ]
          },
          "metadata": {
            "tags": []
          }
        }
      ]
    },
    {
      "metadata": {
        "colab_type": "text",
        "id": "P4M_vIbUi7c0"
      },
      "cell_type": "markdown",
      "source": [
        "## Create a GIF\n"
      ]
    },
    {
      "metadata": {
        "colab_type": "code",
        "id": "IGKQgENQ8lEI",
        "colab": {}
      },
      "cell_type": "code",
      "source": [
        "anim_file = 'dcgan.gif'\n",
        "\n",
        "with imageio.get_writer(anim_file, mode='I') as writer:\n",
        "  filenames = glob.glob('image*.png')\n",
        "  filenames = sorted(filenames)\n",
        "  last = -1\n",
        "  for i,filename in enumerate(filenames):\n",
        "    frame = 2*(i**0.5)\n",
        "    if round(frame) > round(last):\n",
        "      last = frame\n",
        "    else:\n",
        "      continue\n",
        "    image = imageio.imread(filename)\n",
        "    writer.append_data(image)\n",
        "  image = imageio.imread(filename)\n",
        "  writer.append_data(image)\n",
        "\n",
        "import IPython\n",
        "if IPython.version_info >= (6,2,0,''):\n",
        "  display.Image(filename=anim_file)"
      ],
      "execution_count": 0,
      "outputs": []
    },
    {
      "metadata": {
        "colab_type": "text",
        "id": "cGhC3-fMWSwl"
      },
      "cell_type": "markdown",
      "source": [
        "If you're working in Colab you can download the animation with the code below:"
      ]
    },
    {
      "metadata": {
        "colab_type": "code",
        "id": "uV0yiKpzNP1b",
        "colab": {}
      },
      "cell_type": "code",
      "source": [
        "try:\n",
        "  from google.colab import files\n",
        "except ImportError:\n",
        "  pass\n",
        "else:\n",
        "  files.download(lite_model_path)"
      ],
      "execution_count": 0,
      "outputs": []
    }
  ]
}